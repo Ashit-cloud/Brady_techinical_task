{
 "cells": [
  {
   "cell_type": "markdown",
   "metadata": {},
   "source": [
    "#### Import the library"
   ]
  },
  {
   "cell_type": "code",
   "execution_count": 1,
   "metadata": {},
   "outputs": [],
   "source": [
    "import re"
   ]
  },
  {
   "cell_type": "markdown",
   "metadata": {},
   "source": [
    "#### Read the file"
   ]
  },
  {
   "cell_type": "code",
   "execution_count": 2,
   "metadata": {},
   "outputs": [
    {
     "data": {
      "text/plain": [
       "['+---------------+-------------------+           +----------+\\n',\n",
       " '|               |                   |           |          |\\n',\n",
       " '|  (office)     |            C      |           |   C      |\\n',\n",
       " '|               |                   |           |          |\\n',\n",
       " '|           W   |                   +-----------+          |\\n',\n",
       " '|               |                   |           |          |\\n',\n",
       " '|   S           |   (bathroom)     S|      S    |          |\\n',\n",
       " '|           +---+--------+----------+           |          |\\n',\n",
       " '|          /P           S|                      |          |\\n',\n",
       " '|         /              |                      |          |\\n',\n",
       " '|        /   (kitchen)   |      (bedroom)       |  P       |\\n',\n",
       " '+-------+                |                      |          |\\n',\n",
       " '|        \\\\               |                      |          |\\n',\n",
       " '|         \\\\   SSWP       |   W              W   |          |\\n',\n",
       " '|          +-------------+----------------------+          |\\n',\n",
       " '|                                                          |\\n',\n",
       " '|             (hallway)                                    |\\n',\n",
       " '|    W                                                     |\\n',\n",
       " '+--------------+-------------+-------------+               |\\n',\n",
       " '               |             |              \\\\              |\\n',\n",
       " '               |             |               \\\\        C    |\\n',\n",
       " '               | P           |                \\\\            |\\n',\n",
       " '               |             |                 \\\\           |\\n',\n",
       " '        +------+           P |                  +----------+\\n',\n",
       " '        |S                   |                              \\n',\n",
       " '        |    (balcony)   C   |                              \\n',\n",
       " '        +--------------------+                              ']"
      ]
     },
     "execution_count": 2,
     "metadata": {},
     "output_type": "execute_result"
    }
   ],
   "source": [
    "def open_file(file):\n",
    "    with open(file, 'r') as f:\n",
    "        lines = f.readlines()\n",
    "    return lines\n",
    "lines = open_file(file='floorplan01.txt')\n",
    "lines"
   ]
  },
  {
   "cell_type": "markdown",
   "metadata": {},
   "source": [
    "#### For every line that has () in the line, we will get the string between ()"
   ]
  },
  {
   "cell_type": "code",
   "execution_count": 3,
   "metadata": {},
   "outputs": [
    {
     "data": {
      "text/plain": [
       "[['office'], ['bathroom'], ['kitchen', 'bedroom'], ['hallway'], ['balcony']]"
      ]
     },
     "execution_count": 3,
     "metadata": {},
     "output_type": "execute_result"
    }
   ],
   "source": [
    "def parse_rooms(lines):\n",
    "    rooms = []\n",
    "    for line in lines:\n",
    "        room = re.findall(r'\\((.*?)\\)', line)\n",
    "        if room != []:\n",
    "            rooms.append(room)\n",
    "    return rooms\n",
    "\n",
    "rooms = parse_rooms(lines)\n",
    "rooms"
   ]
  },
  {
   "cell_type": "markdown",
   "metadata": {},
   "source": [
    "#### But this list is a nested list, so we need to flatten it"
   ]
  },
  {
   "cell_type": "code",
   "execution_count": 4,
   "metadata": {},
   "outputs": [
    {
     "name": "stdout",
     "output_type": "stream",
     "text": [
      "Flatten rooms list: ['office', 'bathroom', 'kitchen', 'bedroom', 'hallway', 'balcony']\n"
     ]
    }
   ],
   "source": [
    "def flatten_rooms_list(lines):\n",
    "    newlist = []\n",
    "    for i in lines:\n",
    "        for sub in i:\n",
    "            if sub != []:\n",
    "                newlist.append(sub)\n",
    "    return newlist\n",
    "\n",
    "flatten_rooms_list = flatten_rooms_list(rooms)\n",
    "print(f'Flatten rooms list: {flatten_rooms_list}')\n"
   ]
  },
  {
   "cell_type": "markdown",
   "metadata": {},
   "source": [
    "#### To parse the chair types in the floor plan"
   ]
  },
  {
   "cell_type": "code",
   "execution_count": 5,
   "metadata": {},
   "outputs": [
    {
     "data": {
      "text/plain": [
       "['|  (office)     |            C      |           |   C      |\\n',\n",
       " '|           W   |                   +-----------+          |\\n',\n",
       " '|   S           |   (bathroom)     S|      S    |          |\\n',\n",
       " '|          /P           S|                      |          |\\n',\n",
       " '|          /P           S|                      |          |\\n',\n",
       " '|        /   (kitchen)   |      (bedroom)       |  P       |\\n',\n",
       " '|         \\\\   SSWP       |   W              W   |          |\\n',\n",
       " '|         \\\\   SSWP       |   W              W   |          |\\n',\n",
       " '|         \\\\   SSWP       |   W              W   |          |\\n',\n",
       " '|    W                                                     |\\n',\n",
       " '               |             |               \\\\        C    |\\n',\n",
       " '               | P           |                \\\\            |\\n',\n",
       " '        +------+           P |                  +----------+\\n',\n",
       " '        |S                   |                              \\n',\n",
       " '        |    (balcony)   C   |                              \\n']"
      ]
     },
     "execution_count": 5,
     "metadata": {},
     "output_type": "execute_result"
    }
   ],
   "source": [
    "def parse_chairs(lines):\n",
    "    chair_types = [\n",
    "        'S',\n",
    "        'W',\n",
    "        'P',\n",
    "        'C'\n",
    "    ]\n",
    "    chairs = []\n",
    "    for line in lines:\n",
    "        for chair_type in chair_types:\n",
    "            if chair_type in line:\n",
    "                chairs.append(line)\n",
    "    return chairs\n",
    "parse_chairs = parse_chairs(lines)\n",
    "parse_chairs"
   ]
  },
  {
   "cell_type": "markdown",
   "metadata": {},
   "source": [
    "#### First part of the solution:\n",
    "\n",
    "##### 1. Number of different chair types for the apartment"
   ]
  },
  {
   "cell_type": "code",
   "execution_count": 56,
   "metadata": {},
   "outputs": [
    {
     "name": "stdout",
     "output_type": "stream",
     "text": [
      "Total number of chairs: 21\n",
      "Total chair counts every kind in the apartment: {'C': 4, 'P': 5, 'S': 7, 'W': 5}\n"
     ]
    }
   ],
   "source": [
    "def total_chair_count(lines):\n",
    "    c_count, w_count,p_count, s_count = [], [], [], []\n",
    "    for i in range(len(lines)):\n",
    "        c_count.append(lines[i].count('C')) \n",
    "        w_count.append(lines[i].count('W'))\n",
    "        p_count.append(lines[i].count('P'))\n",
    "        s_count.append(lines[i].count('S'))\n",
    "        c_count1 = sum(c_count)\n",
    "        s_count1 = sum(s_count)\n",
    "        p_count1 = sum(p_count)\n",
    "        w_count1 = sum(w_count)\n",
    "    return {'C': c_count1,'P': p_count1,'S': s_count1,'W': w_count1}\n",
    "\n",
    "chairs = total_chair_count(lines)\n",
    "total_chairs = chairs['C'] + chairs['P'] + chairs['S'] + chairs['W']\n",
    "print(f'Total number of chairs: {total_chairs}')\n",
    "print(f'Total chair counts every kind in the apartment: {chairs}')"
   ]
  },
  {
   "cell_type": "markdown",
   "metadata": {},
   "source": [
    "#### Second part of the solution approach\n",
    "\n",
    "##### Trying to fine the pattern from the floor plan design by using regex horizontal boundary and vertical boundary"
   ]
  },
  {
   "cell_type": "code",
   "execution_count": 57,
   "metadata": {},
   "outputs": [
    {
     "name": "stdout",
     "output_type": "stream",
     "text": [
      "[]\n",
      "['---------------', '----------']\n",
      "['               |                   |           |          ']\n",
      "[]\n",
      "['  (office)     |            C      |           |   C      ']\n",
      "[]\n",
      "['               |                   |           |          ']\n",
      "[]\n",
      "['           W   |                   +-----------+          ']\n",
      "['-----------']\n",
      "['               |                   |           |          ']\n",
      "[]\n",
      "['   S           |   (bathroom)     S|      S    |          ']\n",
      "[]\n",
      "['           +---+--------+----------+           |          ']\n",
      "['---', '----------']\n",
      "['          /P           S|                      |          ']\n",
      "[]\n",
      "['         /              |                      |          ']\n",
      "[]\n",
      "['        /   (kitchen)   |      (bedroom)       |  P       ']\n",
      "[]\n",
      "['                      |          ']\n",
      "['-------']\n",
      "['        \\\\               |                      |          ']\n",
      "[]\n",
      "['         \\\\   SSWP       |   W              W   |          ']\n",
      "[]\n",
      "['          +-------------+----------------------+          ']\n",
      "['-------------']\n",
      "['                                                          ']\n",
      "[]\n",
      "['             (hallway)                                    ']\n",
      "[]\n",
      "['    W                                                     ']\n",
      "[]\n",
      "[]\n",
      "['--------------', '-------------']\n",
      "['             |              \\\\              ']\n",
      "[]\n",
      "['             |               \\\\        C    ']\n",
      "[]\n",
      "[' P           |                \\\\            ']\n",
      "[]\n",
      "['             |                 \\\\           ']\n",
      "[]\n",
      "[]\n",
      "['------', '----------']\n",
      "['S                   ']\n",
      "[]\n",
      "['    (balcony)   C   ']\n",
      "[]\n",
      "[]\n",
      "['--------------------']\n",
      "None\n"
     ]
    }
   ],
   "source": [
    "def parse_boundaries(lines):\n",
    "    \"\"\" \n",
    "    this regex can capture everything '^.*$' \n",
    "    \"\"\"\n",
    "\n",
    "    def parse_horizontal_boundaries(line):\n",
    "        \"\"\"\n",
    "        spitting the lines with pattern for + until next + (not sure this will work)\n",
    "        \"\"\"\n",
    "        horizontal_line_boundaries = '\\+(-*)\\+'\n",
    "        horizontal_boundaries = re.findall(horizontal_line_boundaries, line)\n",
    "        print(horizontal_boundaries)\n",
    "\n",
    "    def parse_vertical_boundaries(line):\n",
    "        \"\"\"\n",
    "        splitting the lines with '|', '/', or '\\' and horizontal lines '+' to next '+' does not follow same pattern\n",
    "        \"\"\"\n",
    "        vertical_line_boundaries = '\\|(.*)\\|'\n",
    "        vertical_boundaries = re.findall(vertical_line_boundaries, line)\n",
    "        print(vertical_boundaries)\n",
    "\n",
    "    for line in lines:\n",
    "        parse_vertical_boundaries(line)\n",
    "        parse_horizontal_boundaries(line)\n",
    "\n",
    "Parse_boundaries = parse_boundaries(lines)\n",
    "print(Parse_boundaries)"
   ]
  },
  {
   "cell_type": "code",
   "execution_count": 8,
   "metadata": {},
   "outputs": [],
   "source": [
    "def extract_rooms(lines):\n",
    "    global flatten_rooms_list\n",
    "    global Parse_boundary\n",
    "    office, bathroom, kitchen, bedroom, hallway, balcony = [],[],[],[],[],[]\n",
    "    for i in flatten_rooms_list:\n",
    "        line.split('|')\n",
    "        line.split(' ')\n",
    "        line.split('\\+')\n",
    "        pass"
   ]
  },
  {
   "cell_type": "markdown",
   "metadata": {},
   "source": [
    "First solution approach \n",
    "\n",
    "1. We read the file.\n",
    "2. Extract the room names and removed all the empty and flatten the final room list.\n",
    "3. Extract the area where chairs are available.\n",
    "4. Solution of the 1st part is total number of chairs in the apartment sorted alphabetically.\n",
    "5. The idea of second part of the solution is:\n",
    "   - Firstly, finding the regex pattern and parse the horizontal boundary from + until next + (not sure this will work) and split it.\n",
    "   - Secondly, split the vertical boundary '|', '/', or '\\' to until next '|', ut this pattern is not the same for all of the rooms.\n",
    "   - Thirdly, where ever the room name is found, start checking the 1st start vertical boundary and following that it will check top and bottom both direction then it will check the at list one horizontal line boundary to close the room.\n",
    "   - Fourthly, we will iterate through flatten each rooms list and extract each room and save each room variable.\n",
    "   - finally, once we've got each room... then we can easily count each type in each room."
   ]
  },
  {
   "cell_type": "markdown",
   "metadata": {},
   "source": [
    "Challenges\n",
    "\n",
    "1. Although we where able to find the pattern by using regex, but the apartment design and each room design structure is quite different, so we are unable to capture the design properly.\n",
    "2. No period. and we can read only line by line, hence its hard extract each lines room information.\n",
    "3. Any how if we can get the information of each room and each types of chairs in the room. if the design has changed this solution might not work. it's hard to expect each line's room."
   ]
  },
  {
   "cell_type": "markdown",
   "metadata": {},
   "source": [
    "Alternative solution approach\n",
    "\n",
    "Apart of this approach we might solve this problem converting '.txt' into image by using CNN technique like Open-cv or ascii art to image.\n",
    "1. Image can be convert ascii art. but ,txt to image (not sure) if yes. then\n",
    "2. Ascii image command line tool that the image is essentially a grid that the grid can be converted to a numpy array.\n",
    "3. Get distinct characters from the arrays use case sensitive regex to get the values.\n",
    "4. For the rooms, similar thing, each line is a numpy array convert each array to a string of characters.\n",
    "5. Using the regex to identify \"(\" and \")\" in a single array which tells you if it's a room from there you are going to have to do some searching algorithm to find all upper case letters and stop searching when you hit a \"/\" \"|\" etc. and keep track of the values."
   ]
  }
 ],
 "metadata": {
  "interpreter": {
   "hash": "11d879000fa4b507d188e7bd6a792b9b6d540c566c17429e8a9aed1368656cfe"
  },
  "kernelspec": {
   "display_name": "Python 3.9.7 64-bit",
   "language": "python",
   "name": "python3"
  },
  "language_info": {
   "codemirror_mode": {
    "name": "ipython",
    "version": 3
   },
   "file_extension": ".py",
   "mimetype": "text/x-python",
   "name": "python",
   "nbconvert_exporter": "python",
   "pygments_lexer": "ipython3",
   "version": "3.8.12"
  },
  "orig_nbformat": 4
 },
 "nbformat": 4,
 "nbformat_minor": 2
}
