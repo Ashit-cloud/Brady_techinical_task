{
 "cells": [
  {
   "cell_type": "markdown",
   "metadata": {},
   "source": [
    "#### Import the library"
   ]
  },
  {
   "cell_type": "code",
   "execution_count": 18,
   "metadata": {},
   "outputs": [],
   "source": [
    "import re"
   ]
  },
  {
   "cell_type": "markdown",
   "metadata": {},
   "source": [
    "#### Read the file"
   ]
  },
  {
   "cell_type": "code",
   "execution_count": 1,
   "metadata": {},
   "outputs": [],
   "source": [
    "def open_file(file):\n",
    "    with open(file, 'r') as f:\n",
    "        lines = f.readlines()\n",
    "    return lines\n",
    "lines = open_file(file='floorplan01.txt')\n",
    "# print(lines)"
   ]
  },
  {
   "cell_type": "markdown",
   "metadata": {},
   "source": [
    "#### For every line that has () in the line, we will get the string between ()"
   ]
  },
  {
   "cell_type": "code",
   "execution_count": 17,
   "metadata": {},
   "outputs": [
    {
     "name": "stdout",
     "output_type": "stream",
     "text": [
      "[[], [], ['office'], [], [], [], ['bathroom'], [], [], [], ['kitchen', 'bedroom'], [], [], [], [], [], ['hallway'], [], [], [], [], [], [], [], [], ['balcony'], []]\n"
     ]
    }
   ],
   "source": [
    "def parse_rooms(lines):\n",
    "    rooms = []\n",
    "    for line in lines:\n",
    "        room = re.findall(r'\\((.*?)\\)', line)\n",
    "        rooms.append(room)\n",
    "    return rooms\n",
    "rooms = parse_rooms(lines)\n",
    "print(rooms)"
   ]
  },
  {
   "cell_type": "markdown",
   "metadata": {},
   "source": [
    "#### But this list was nested Empty empty list, so we need to flatten it"
   ]
  },
  {
   "cell_type": "code",
   "execution_count": 22,
   "metadata": {},
   "outputs": [
    {
     "name": "stdout",
     "output_type": "stream",
     "text": [
      "Flatten rooms list: ['office', 'bathroom', 'kitchen', 'bedroom', 'hallway', 'balcony']\n"
     ]
    }
   ],
   "source": [
    "def flatten_rooms_list(lines):\n",
    "    newlist = []\n",
    "    for i in lines:\n",
    "        for sub in i:\n",
    "            if sub != []:\n",
    "                newlist.append(sub)\n",
    "    return newlist\n",
    "\n",
    "flatten_rooms_list = flatten_rooms_list(rooms)\n",
    "print(f'Flatten rooms list: {flatten_rooms_list}')\n"
   ]
  },
  {
   "cell_type": "markdown",
   "metadata": {},
   "source": [
    "#### We need to parses the chair types on the floor plan"
   ]
  },
  {
   "cell_type": "code",
   "execution_count": 26,
   "metadata": {},
   "outputs": [
    {
     "data": {
      "text/plain": [
       "['|  (office)     |            C      |           |   C      |\\n',\n",
       " '|           W   |                   +-----------+          |\\n',\n",
       " '|   S           |   (bathroom)     S|      S    |          |\\n',\n",
       " '|          /P           S|                      |          |\\n',\n",
       " '|          /P           S|                      |          |\\n',\n",
       " '|        /   (kitchen)   |      (bedroom)       |  P       |\\n',\n",
       " '|         \\\\   SSWP       |   W              W   |          |\\n',\n",
       " '|         \\\\   SSWP       |   W              W   |          |\\n',\n",
       " '|         \\\\   SSWP       |   W              W   |          |\\n',\n",
       " '|    W                                                     |\\n',\n",
       " '               |             |               \\\\        C    |\\n',\n",
       " '               | P           |                \\\\            |\\n',\n",
       " '        +------+           P |                  +----------+\\n',\n",
       " '        |S                   |                              \\n',\n",
       " '        |    (balcony)   C   |                              \\n']"
      ]
     },
     "execution_count": 26,
     "metadata": {},
     "output_type": "execute_result"
    }
   ],
   "source": [
    "def parse_chairs(lines):\n",
    "    chair_types = [\n",
    "        'S',\n",
    "        'W',\n",
    "        'P',\n",
    "        'C'\n",
    "    ]\n",
    "    chairs = []\n",
    "    for line in lines:\n",
    "        for chair_type in chair_types:\n",
    "            if chair_type in line:\n",
    "                chairs.append(line)\n",
    "    return chairs\n",
    "parse_chairs = parse_chairs(lines)\n",
    "parse_chairs"
   ]
  },
  {
   "cell_type": "markdown",
   "metadata": {},
   "source": [
    "#### Number of different chair types for the apartment"
   ]
  },
  {
   "cell_type": "code",
   "execution_count": 31,
   "metadata": {},
   "outputs": [
    {
     "name": "stdout",
     "output_type": "stream",
     "text": [
      "Total number of chairs: 21\n",
      "Total chair counts every kind in the apartment.: {'C': 4, 'P': 5, 'S': 7, 'W': 5}\n"
     ]
    }
   ],
   "source": [
    "def total_chair_count(lines):\n",
    "    c_count, w_count,p_count, s_count = [], [], [], []\n",
    "    for i in range(len(lines)):\n",
    "        c_count.append(lines[i].count('C')) \n",
    "        w_count.append(lines[i].count('W'))\n",
    "        p_count.append(lines[i].count('P'))\n",
    "        s_count.append(lines[i].count('S'))\n",
    "        c_count1 = sum(c_count)\n",
    "        s_count1 = sum(s_count)\n",
    "        p_count1 = sum(p_count)\n",
    "        w_count1 = sum(w_count)\n",
    "    return {'C': c_count1,'P': p_count1,'S': s_count1,'W': w_count1}\n",
    "\n",
    "chairs = total_chair_count(lines)\n",
    "total_chairs = chairs['C'] + chairs['P'] + chairs['S'] + chairs['W']\n",
    "print(f'Total number of chairs: {total_chairs}')\n",
    "print(f'Total chair counts every kind in the apartment.: {chairs}')"
   ]
  },
  {
   "cell_type": "markdown",
   "metadata": {},
   "source": [
    "#### Trying to fine the pattern from the floor plan design by using regex horizontal boundary and vertical boundary"
   ]
  },
  {
   "cell_type": "code",
   "execution_count": 10,
   "metadata": {},
   "outputs": [
    {
     "name": "stdout",
     "output_type": "stream",
     "text": [
      "['---------------', '----------']\n",
      "[]\n",
      "[]\n",
      "[]\n",
      "['-----------']\n",
      "[]\n",
      "[]\n",
      "['---', '----------']\n",
      "[]\n",
      "[]\n",
      "[]\n",
      "['-------']\n",
      "[]\n",
      "[]\n",
      "['-------------']\n",
      "[]\n",
      "[]\n",
      "[]\n",
      "['--------------', '-------------']\n",
      "[]\n",
      "[]\n",
      "[]\n",
      "[]\n",
      "['------', '----------']\n",
      "[]\n",
      "[]\n",
      "['--------------------']\n"
     ]
    }
   ],
   "source": [
    "def parse_horizontal_boundary(line):\n",
    "    \"\"\"\n",
    "    spitting the lines with pattern for + until next + (not sure this will work)\n",
    "    \"\"\"\n",
    "    horizontal_line_boundary = '\\+(-*)\\+'\n",
    "    print(re.findall(horizontal_line_boundary, line))\n",
    "\n",
    "for line in lines:\n",
    "    parse_horizontal_boundary(line)"
   ]
  },
  {
   "cell_type": "code",
   "execution_count": 11,
   "metadata": {},
   "outputs": [
    {
     "name": "stdout",
     "output_type": "stream",
     "text": [
      "[]\n",
      "['               |                   |           |          ']\n",
      "['  (office)     |            C      |           |   C      ']\n",
      "['               |                   |           |          ']\n",
      "['           W   |                   +-----------+          ']\n",
      "['               |                   |           |          ']\n",
      "['   S           |   (bathroom)     S|      S    |          ']\n",
      "['           +---+--------+----------+           |          ']\n",
      "['          /P           S|                      |          ']\n",
      "['         /              |                      |          ']\n",
      "['        /   (kitchen)   |      (bedroom)       |  P       ']\n",
      "['                      |          ']\n",
      "['        \\\\               |                      |          ']\n",
      "['         \\\\   SSWP       |   W              W   |          ']\n",
      "['          +-------------+----------------------+          ']\n",
      "['                                                          ']\n",
      "['             (hallway)                                    ']\n",
      "['    W                                                     ']\n",
      "[]\n",
      "['             |              \\\\              ']\n",
      "['             |               \\\\        C    ']\n",
      "[' P           |                \\\\            ']\n",
      "['             |                 \\\\           ']\n",
      "[]\n",
      "['S                   ']\n",
      "['    (balcony)   C   ']\n",
      "[]\n"
     ]
    }
   ],
   "source": [
    "def parse_vertical_boundary(line):\n",
    "    \"\"\"\n",
    "    splitting the lines with '|', '/', or '\\' or if + does not follow -\n",
    "    \"\"\"\n",
    "    vertical_line_boundary = '\\|(.*)\\|'\n",
    "    print(re.findall(vertical_line_boundary, line))\n",
    "\n",
    "for line in lines:\n",
    "    parse_vertical_boundary(line)"
   ]
  },
  {
   "cell_type": "code",
   "execution_count": 13,
   "metadata": {},
   "outputs": [],
   "source": [
    "office, bathroom, kitchen, bedroom, hallway, balcony = [],[],[],[],[],[]\n",
    "\n",
    "for line in lines:\n",
    "    line.split('|')\n",
    "    line.split(' ')"
   ]
  }
 ],
 "metadata": {
  "interpreter": {
   "hash": "11d879000fa4b507d188e7bd6a792b9b6d540c566c17429e8a9aed1368656cfe"
  },
  "kernelspec": {
   "display_name": "Python 3.9.7 64-bit",
   "language": "python",
   "name": "python3"
  },
  "language_info": {
   "codemirror_mode": {
    "name": "ipython",
    "version": 3
   },
   "file_extension": ".py",
   "mimetype": "text/x-python",
   "name": "python",
   "nbconvert_exporter": "python",
   "pygments_lexer": "ipython3",
   "version": "3.8.12"
  },
  "orig_nbformat": 4
 },
 "nbformat": 4,
 "nbformat_minor": 2
}
