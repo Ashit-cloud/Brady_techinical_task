{
 "cells": [
  {
   "cell_type": "markdown",
   "metadata": {},
   "source": [
    "#### Import the library"
   ]
  },
  {
   "cell_type": "code",
   "execution_count": 1,
   "metadata": {},
   "outputs": [],
   "source": [
    "import re"
   ]
  },
  {
   "cell_type": "markdown",
   "metadata": {},
   "source": [
    "#### Read the file"
   ]
  },
  {
   "cell_type": "code",
   "execution_count": 2,
   "metadata": {},
   "outputs": [
    {
     "data": {
      "text/plain": [
       "['+---------------+-------------------+           +----------+\\n',\n",
       " '|               |                   |           |          |\\n',\n",
       " '|  (office)     |            C      |           |   C      |\\n',\n",
       " '|               |                   |           |          |\\n',\n",
       " '|           W   |                   +-----------+          |\\n',\n",
       " '|               |                   |           |          |\\n',\n",
       " '|   S           |   (bathroom)     S|      S    |          |\\n',\n",
       " '|           +---+--------+----------+           |          |\\n',\n",
       " '|          /P           S|                      |          |\\n',\n",
       " '|         /              |                      |          |\\n',\n",
       " '|        /   (kitchen)   |      (bedroom)       |  P       |\\n',\n",
       " '+-------+                |                      |          |\\n',\n",
       " '|        \\\\               |                      |          |\\n',\n",
       " '|         \\\\   SSWP       |   W              W   |          |\\n',\n",
       " '|          +-------------+----------------------+          |\\n',\n",
       " '|                                                          |\\n',\n",
       " '|             (hallway)                                    |\\n',\n",
       " '|    W                                                     |\\n',\n",
       " '+--------------+-------------+-------------+               |\\n',\n",
       " '               |             |              \\\\              |\\n',\n",
       " '               |             |               \\\\        C    |\\n',\n",
       " '               | P           |                \\\\            |\\n',\n",
       " '               |             |                 \\\\           |\\n',\n",
       " '        +------+           P |                  +----------+\\n',\n",
       " '        |S                   |                              \\n',\n",
       " '        |    (balcony)   C   |                              \\n',\n",
       " '        +--------------------+                              ']"
      ]
     },
     "execution_count": 2,
     "metadata": {},
     "output_type": "execute_result"
    }
   ],
   "source": [
    "def open_file(file):\n",
    "    with open(file, 'r') as f:\n",
    "        lines = f.readlines()\n",
    "    return lines\n",
    "lines = open_file(file='floorplan01.txt')\n",
    "lines"
   ]
  },
  {
   "cell_type": "markdown",
   "metadata": {},
   "source": [
    "#### For every line that has () in the line, we will get the string between ()"
   ]
  },
  {
   "cell_type": "code",
   "execution_count": 40,
   "metadata": {},
   "outputs": [
    {
     "data": {
      "text/plain": [
       "[['office'], ['bathroom'], ['kitchen', 'bedroom'], ['hallway'], ['balcony']]"
      ]
     },
     "execution_count": 40,
     "metadata": {},
     "output_type": "execute_result"
    }
   ],
   "source": [
    "def parse_rooms(lines):\n",
    "    rooms = []\n",
    "    for line in lines:\n",
    "        room = re.findall(r'\\((.*?)\\)', line)\n",
    "        if room != []:\n",
    "            rooms.append(room)\n",
    "    return rooms\n",
    "\n",
    "rooms = parse_rooms(lines)\n",
    "rooms\n",
    "\n"
   ]
  },
  {
   "cell_type": "code",
   "execution_count": null,
   "metadata": {},
   "outputs": [],
   "source": [
    "// filter empty list\n"
   ]
  },
  {
   "cell_type": "markdown",
   "metadata": {},
   "source": [
    "#### But this list was nested list, so we need to flatten it"
   ]
  },
  {
   "cell_type": "code",
   "execution_count": 38,
   "metadata": {},
   "outputs": [
    {
     "name": "stdout",
     "output_type": "stream",
     "text": [
      "Flatten rooms list: ['office', 'bathroom', 'kitchen', 'bedroom', 'hallway', 'balcony']\n"
     ]
    }
   ],
   "source": [
    "def flatten_rooms_list(lines):\n",
    "    newlist = []\n",
    "    for i in lines:\n",
    "        for sub in i:\n",
    "            if sub != []:\n",
    "                newlist.append(sub)\n",
    "    return newlist\n",
    "\n",
    "flatten_rooms_list = flatten_rooms_list(rooms)\n",
    "print(f'Flatten rooms list: {flatten_rooms_list}')\n"
   ]
  },
  {
   "cell_type": "markdown",
   "metadata": {},
   "source": [
    "#### We need to parses the chair types on the floor plan"
   ]
  },
  {
   "cell_type": "code",
   "execution_count": 26,
   "metadata": {},
   "outputs": [
    {
     "data": {
      "text/plain": [
       "['|  (office)     |            C      |           |   C      |\\n',\n",
       " '|           W   |                   +-----------+          |\\n',\n",
       " '|   S           |   (bathroom)     S|      S    |          |\\n',\n",
       " '|          /P           S|                      |          |\\n',\n",
       " '|          /P           S|                      |          |\\n',\n",
       " '|        /   (kitchen)   |      (bedroom)       |  P       |\\n',\n",
       " '|         \\\\   SSWP       |   W              W   |          |\\n',\n",
       " '|         \\\\   SSWP       |   W              W   |          |\\n',\n",
       " '|         \\\\   SSWP       |   W              W   |          |\\n',\n",
       " '|    W                                                     |\\n',\n",
       " '               |             |               \\\\        C    |\\n',\n",
       " '               | P           |                \\\\            |\\n',\n",
       " '        +------+           P |                  +----------+\\n',\n",
       " '        |S                   |                              \\n',\n",
       " '        |    (balcony)   C   |                              \\n']"
      ]
     },
     "execution_count": 26,
     "metadata": {},
     "output_type": "execute_result"
    }
   ],
   "source": [
    "def parse_chairs(lines):\n",
    "    chair_types = [\n",
    "        'S',\n",
    "        'W',\n",
    "        'P',\n",
    "        'C'\n",
    "    ]\n",
    "    chairs = []\n",
    "    for line in lines:\n",
    "        for chair_type in chair_types:\n",
    "            if chair_type in line:\n",
    "                chairs.append(line)\n",
    "    return chairs\n",
    "parse_chairs = parse_chairs(lines)\n",
    "parse_chairs"
   ]
  },
  {
   "cell_type": "markdown",
   "metadata": {},
   "source": [
    "#### First part of the solution:\n",
    "\n",
    "##### 1. Number of different chair types for the apartment"
   ]
  },
  {
   "cell_type": "code",
   "execution_count": 31,
   "metadata": {},
   "outputs": [
    {
     "name": "stdout",
     "output_type": "stream",
     "text": [
      "Total number of chairs: 21\n",
      "Total chair counts every kind in the apartment.: {'C': 4, 'P': 5, 'S': 7, 'W': 5}\n"
     ]
    }
   ],
   "source": [
    "def total_chair_count(lines):\n",
    "    c_count, w_count,p_count, s_count = [], [], [], []\n",
    "    for i in range(len(lines)):\n",
    "        c_count.append(lines[i].count('C')) \n",
    "        w_count.append(lines[i].count('W'))\n",
    "        p_count.append(lines[i].count('P'))\n",
    "        s_count.append(lines[i].count('S'))\n",
    "        c_count1 = sum(c_count)\n",
    "        s_count1 = sum(s_count)\n",
    "        p_count1 = sum(p_count)\n",
    "        w_count1 = sum(w_count)\n",
    "    return {'C': c_count1,'P': p_count1,'S': s_count1,'W': w_count1}\n",
    "\n",
    "chairs = total_chair_count(lines)\n",
    "total_chairs = chairs['C'] + chairs['P'] + chairs['S'] + chairs['W']\n",
    "print(f'Total number of chairs: {total_chairs}')\n",
    "print(f'Total chair counts every kind in the apartment.: {chairs}')"
   ]
  },
  {
   "cell_type": "markdown",
   "metadata": {},
   "source": [
    "#### Second part of the solution approach\n",
    "\n",
    "##### Trying to fine the pattern from the floor plan design by using regex horizontal boundary and vertical boundary"
   ]
  },
  {
   "cell_type": "code",
   "execution_count": 49,
   "metadata": {},
   "outputs": [
    {
     "name": "stdout",
     "output_type": "stream",
     "text": [
      "[]\n",
      "['---------------', '----------']\n",
      "['               |                   |           |          ']\n",
      "[]\n",
      "['  (office)     |            C      |           |   C      ']\n",
      "[]\n",
      "['               |                   |           |          ']\n",
      "[]\n",
      "['           W   |                   +-----------+          ']\n",
      "['-----------']\n",
      "['               |                   |           |          ']\n",
      "[]\n",
      "['   S           |   (bathroom)     S|      S    |          ']\n",
      "[]\n",
      "['           +---+--------+----------+           |          ']\n",
      "['---', '----------']\n",
      "['          /P           S|                      |          ']\n",
      "[]\n",
      "['         /              |                      |          ']\n",
      "[]\n",
      "['        /   (kitchen)   |      (bedroom)       |  P       ']\n",
      "[]\n",
      "['                      |          ']\n",
      "['-------']\n",
      "['        \\\\               |                      |          ']\n",
      "[]\n",
      "['         \\\\   SSWP       |   W              W   |          ']\n",
      "[]\n",
      "['          +-------------+----------------------+          ']\n",
      "['-------------']\n",
      "['                                                          ']\n",
      "[]\n",
      "['             (hallway)                                    ']\n",
      "[]\n",
      "['    W                                                     ']\n",
      "[]\n",
      "[]\n",
      "['--------------', '-------------']\n",
      "['             |              \\\\              ']\n",
      "[]\n",
      "['             |               \\\\        C    ']\n",
      "[]\n",
      "[' P           |                \\\\            ']\n",
      "[]\n",
      "['             |                 \\\\           ']\n",
      "[]\n",
      "[]\n",
      "['------', '----------']\n",
      "['S                   ']\n",
      "[]\n",
      "['    (balcony)   C   ']\n",
      "[]\n",
      "[]\n",
      "['--------------------']\n",
      "None\n"
     ]
    }
   ],
   "source": [
    "def Parse_boundary(lines):\n",
    "    \"\"\" \n",
    "    this regex can capture everythink '^.*$' \n",
    "    \"\"\"\n",
    "\n",
    "    def parse_horizontal_boundary(line):\n",
    "        \"\"\"\n",
    "        spitting the lines with pattern for + until next + (not sure this will work)\n",
    "        \"\"\"\n",
    "        horizontal_line_boundary = '\\+(-*)\\+'\n",
    "        horizontal_boundary = re.findall(horizontal_line_boundary, line)\n",
    "        print(horizontal_boundary)\n",
    "\n",
    "    def parse_vertical_boundary(line):\n",
    "        \"\"\"\n",
    "        splitting the lines with '|', '/', or '\\' and horizontal lines '+' to next '+' does not follow same pattern\n",
    "        \"\"\"\n",
    "        vertical_line_boundary = '\\|(.*)\\|'\n",
    "        vertical_boundary = re.findall(vertical_line_boundary, line)\n",
    "        print(vertical_boundary)\n",
    "\n",
    "    for line in lines:\n",
    "        parse_vertical_boundary(line)\n",
    "        parse_horizontal_boundary(line)\n",
    "\n",
    "Parse_boundary = Parse_boundary(lines)\n",
    "print(Parse_boundary)"
   ]
  },
  {
   "cell_type": "code",
   "execution_count": 29,
   "metadata": {},
   "outputs": [
    {
     "name": "stdout",
     "output_type": "stream",
     "text": [
      "[]\n",
      "['               |                   |           |          ']\n",
      "['  (office)     |            C      |           |   C      ']\n",
      "['               |                   |           |          ']\n",
      "['           W   |                   +-----------+          ']\n",
      "['               |                   |           |          ']\n",
      "['   S           |   (bathroom)     S|      S    |          ']\n",
      "['           +---+--------+----------+           |          ']\n",
      "['          /P           S|                      |          ']\n",
      "['         /              |                      |          ']\n",
      "['        /   (kitchen)   |      (bedroom)       |  P       ']\n",
      "['                      |          ']\n",
      "['        \\\\               |                      |          ']\n",
      "['         \\\\   SSWP       |   W              W   |          ']\n",
      "['          +-------------+----------------------+          ']\n",
      "['                                                          ']\n",
      "['             (hallway)                                    ']\n",
      "['    W                                                     ']\n",
      "[]\n",
      "['             |              \\\\              ']\n",
      "['             |               \\\\        C    ']\n",
      "[' P           |                \\\\            ']\n",
      "['             |                 \\\\           ']\n",
      "[]\n",
      "['S                   ']\n",
      "['    (balcony)   C   ']\n",
      "[]\n"
     ]
    }
   ],
   "source": [
    "def parse_vertical_boundary(line):\n",
    "    \"\"\"\n",
    "    splitting the lines with '|', '/', or '\\' or if + does not follow -\n",
    "    \"\"\"\n",
    "    vertical_line_boundary = '\\|(.*)\\|'\n",
    "    vertical_boundary = re.findall(vertical_line_boundary, line)\n",
    "    print(vertical_boundary)\n",
    "\n",
    "for line in lines:\n",
    "    parse_vertical_boundary(line)\n",
    "    \n"
   ]
  },
  {
   "cell_type": "code",
   "execution_count": 46,
   "metadata": {},
   "outputs": [],
   "source": [
    "def extract_rooms(lines):\n",
    "    global flatten_rooms_list\n",
    "    global Parse_boundary\n",
    "    office, bathroom, kitchen, bedroom, hallway, balcony = [],[],[],[],[],[]\n",
    "    for i in flatten_rooms_list:\n",
    "        line.split('|')\n",
    "        line.split(' ')\n",
    "        line.split('\\+')\n",
    "        pass"
   ]
  },
  {
   "cell_type": "markdown",
   "metadata": {},
   "source": [
    "First solution approach \n",
    "\n",
    "1. we read the file.\n",
    "2. Extract the room names and removed all the empty and flatter the final room list.\n",
    "3. Extract the area where chairs are available.\n",
    "4. Solution of the 1st part is total number of chairs in the apartment sorted alphabetically.\n",
    "5. The idea of second part of the solution is:\n",
    "   - Firstly, finding the regex pattern and parse the horizontal boundary from + until next + (not sure this will work) and split it.\n",
    "   - Secondly, Split the vertical boundary '|', '/', or '\\' to until next '|', but this pattern not same for all the room.\n",
    "   - Thirdly, where ever room name found start checking the 1st start vertical boundary and following that it will check top and bottom both direction then it will check the at list one horizontal line boundary to close the room.\n",
    "   - Fourthly, we will iterate through flatten each rooms list and extract each room and save each room variable.\n",
    "   -finlay, once we got the each room separately. easily we can count the each type of in the each room."
   ]
  },
  {
   "cell_type": "markdown",
   "metadata": {},
   "source": [
    "challenges\n",
    "\n",
    "1. Although we can able to find the pattern by using regex, but the apartment design and each room design structure is quit different, so we are unable to capture the design properly.\n",
    "2. since the design in txt file. and we can read only line by line, hence its hard extract each lines room information.\n",
    "3. Any how if we can get the information of each room and each types of chairs in the room. if the design has changed this solution might not work.\n",
    "hence , we need to build a robust solution."
   ]
  },
  {
   "cell_type": "markdown",
   "metadata": {},
   "source": [
    "Alternative solution approach\n",
    "\n",
    "1. Apart of this approach we might solve this problem converting .txt into image by using CNN technique  like Open-cv or other technique. \n"
   ]
  }
 ],
 "metadata": {
  "interpreter": {
   "hash": "11d879000fa4b507d188e7bd6a792b9b6d540c566c17429e8a9aed1368656cfe"
  },
  "kernelspec": {
   "display_name": "Python 3.9.7 64-bit",
   "language": "python",
   "name": "python3"
  },
  "language_info": {
   "codemirror_mode": {
    "name": "ipython",
    "version": 3
   },
   "file_extension": ".py",
   "mimetype": "text/x-python",
   "name": "python",
   "nbconvert_exporter": "python",
   "pygments_lexer": "ipython3",
   "version": "3.8.12"
  },
  "orig_nbformat": 4
 },
 "nbformat": 4,
 "nbformat_minor": 2
}
