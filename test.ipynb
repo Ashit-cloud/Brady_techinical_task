{
 "cells": [
  {
   "cell_type": "code",
   "execution_count": null,
   "metadata": {},
   "outputs": [],
   "source": [
    "#  horizontal_line_boundary = '\\+(-*)\\+'\n",
    "#     '\\+(-*)'"
   ]
  },
  {
   "cell_type": "code",
   "execution_count": 58,
   "metadata": {},
   "outputs": [
    {
     "name": "stdout",
     "output_type": "stream",
     "text": [
      "['---------------', '----------']\n",
      "[]\n",
      "[]\n",
      "[]\n",
      "['-----------']\n",
      "[]\n",
      "[]\n",
      "['---', '----------']\n",
      "[]\n",
      "[]\n",
      "[]\n",
      "['-------']\n",
      "[]\n",
      "[]\n",
      "['-------------']\n",
      "[]\n",
      "[]\n",
      "[]\n",
      "['--------------', '-------------']\n",
      "[]\n",
      "[]\n",
      "[]\n",
      "[]\n",
      "['------', '----------']\n",
      "[]\n",
      "[]\n",
      "['--------------------']\n"
     ]
    }
   ],
   "source": [
    "def parse_horizontal_boundary(line):\n",
    "    \"\"\"\n",
    "    spitting the lines with pattern for + until next + (not sure this will work)\n",
    "    \"\"\"\n",
    "    horizontal_line_boundary = '\\+(-*)\\+'\n",
    "    print(re.findall(horizontal_line_boundary, line))\n",
    "\n",
    "for line in lines:\n",
    "    parse_horizontal_boundary(line)"
   ]
  },
  {
   "cell_type": "code",
   "execution_count": 52,
   "metadata": {},
   "outputs": [
    {
     "name": "stdout",
     "output_type": "stream",
     "text": [
      "[]\n",
      "['               |                   |           |          ']\n",
      "['  (office)     |            C      |           |   C      ']\n",
      "['               |                   |           |          ']\n",
      "['           W   |                   +-----------+          ']\n",
      "['               |                   |           |          ']\n",
      "['   S           |   (bathroom)     S|      S    |          ']\n",
      "['           +---+--------+----------+           |          ']\n",
      "['          /P           S|                      |          ']\n",
      "['         /              |                      |          ']\n",
      "['        /   (kitchen)   |      (bedroom)       |  P       ']\n",
      "['                      |          ']\n",
      "['        \\\\               |                      |          ']\n",
      "['         \\\\   SSWP       |   W              W   |          ']\n",
      "['          +-------------+----------------------+          ']\n",
      "['                                                          ']\n",
      "['             (hallway)                                    ']\n",
      "['    W                                                     ']\n",
      "[]\n",
      "['             |              \\\\              ']\n",
      "['             |               \\\\        C    ']\n",
      "[' P           |                \\\\            ']\n",
      "['             |                 \\\\           ']\n",
      "[]\n",
      "['S                   ']\n",
      "['    (balcony)   C   ']\n",
      "[]\n"
     ]
    }
   ],
   "source": [
    "def parse_vertical_boundary(line):\n",
    "    \"\"\"\n",
    "    splitting the lines with '|', '/', or '\\' or if + does not follow -\n",
    "    \"\"\"\n",
    "    vertical_line_boundary = '\\|(.*)\\|'\n",
    "    print(re.findall(vertical_line_boundary, line))\n",
    "\n",
    "for line in lines:\n",
    "    parse_vertical_boundary(line)"
   ]
  },
  {
   "cell_type": "code",
   "execution_count": null,
   "metadata": {},
   "outputs": [],
   "source": [
    "['office', 'bathroom', 'kitchen', 'bedroom', 'hallway', 'balcony']"
   ]
  },
  {
   "cell_type": "code",
   "execution_count": null,
   "metadata": {},
   "outputs": [],
   "source": [
    "office, bathroom, kitchen, bedroom, hallway, balcony = [],[],[],[],[],[]\n",
    "\n",
    "for line in lines:\n",
    "    line.split('|')\n",
    "    line.split('')\n",
    "    "
   ]
  },
  {
   "cell_type": "code",
   "execution_count": 59,
   "metadata": {},
   "outputs": [],
   "source": [
    "for id, line in enumerate(lines):\n",
    "    room_slice = line.split('|')\n",
    "    \n",
    "\n",
    "\n"
   ]
  },
  {
   "cell_type": "code",
   "execution_count": null,
   "metadata": {},
   "outputs": [],
   "source": [
    "# reg = '\\+(-*)\\+|\\|(.*)\\|'"
   ]
  },
  {
   "cell_type": "code",
   "execution_count": null,
   "metadata": {},
   "outputs": [],
   "source": [
    "# // capture the area of the room using regex vertical_line_boundary and horizontal_line_boundary\n",
    "\n",
    "# def parse_area(lines):\n",
    "#     area = []\n",
    "#     for line in lines:\n",
    "#         vertical_line_boundary = '\\|(.*)\\|'\n",
    "#         area.append(re.findall(vertical_line_boundary, line))\n",
    "#     return area\n",
    "# parse_area(lines)"
   ]
  },
  {
   "cell_type": "code",
   "execution_count": null,
   "metadata": {},
   "outputs": [],
   "source": [
    "# // combaile two regex to capture the area of the New_rooms_list\n",
    "\n",
    "vartical_line_boundary = '\\|(.*)\\|'\n",
    "horizontal_line_boundary = '\\+(-*)\\+'\n",
    "\n",
    "def\n"
   ]
  },
  {
   "cell_type": "markdown",
   "metadata": {},
   "source": []
  },
  {
   "cell_type": "markdown",
   "metadata": {},
   "source": [
    "Total chair count in the floorplan#### Total chair count in the floorplan"
   ]
  },
  {
   "cell_type": "markdown",
   "metadata": {},
   "source": [
    "#### Total chair count in the floorplan"
   ]
  },
  {
   "cell_type": "markdown",
   "metadata": {},
   "source": [
    "def parse_room_boundries(lines):\n",
    "    def parse_vertical_boundary(line):\n",
    "        \"\"\"\n",
    "        splitting the lines with '|', '/', or '\\' or if + does not follow -\n",
    "        \"\"\"\n",
    "        vertical_line_boundary = '\\|(.*)\\|'\n",
    "        print(re.findall(vertical_line_boundary, line))\n",
    "        \n",
    "\n",
    "    def parse_horizontal_boundary(line):\n",
    "        \"\"\"\n",
    "        spitting the lines with pattern for + until next + (not sure this will work)\n",
    "        \"\"\"\n",
    "        horizontal_line_boundary = '\\+(-*)\\+'\n",
    "        print(re.findall(horizontal_line_boundary, line))\n",
    "\n",
    "    for line in lines:\n",
    "            print(parse_vertical_boundary(line))\n",
    "        \n",
    "    for line in lines:\n",
    "        print(parse_horizontal_boundary(line))\n",
    "#### Total chair count in the floorplan"
   ]
  }
 ],
 "metadata": {
  "interpreter": {
   "hash": "11d879000fa4b507d188e7bd6a792b9b6d540c566c17429e8a9aed1368656cfe"
  },
  "kernelspec": {
   "display_name": "Python 3.9.7 64-bit",
   "language": "python",
   "name": "python3"
  },
  "language_info": {
   "codemirror_mode": {
    "name": "ipython",
    "version": 3
   },
   "file_extension": ".py",
   "mimetype": "text/x-python",
   "name": "python",
   "nbconvert_exporter": "python",
   "pygments_lexer": "ipython3",
   "version": "3.8.12"
  },
  "orig_nbformat": 4
 },
 "nbformat": 4,
 "nbformat_minor": 2
}
